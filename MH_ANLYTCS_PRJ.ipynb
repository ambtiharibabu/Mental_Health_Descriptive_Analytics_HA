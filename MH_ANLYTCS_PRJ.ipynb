{
  "nbformat": 4,
  "nbformat_minor": 0,
  "metadata": {
    "colab": {
      "private_outputs": true,
      "provenance": []
    },
    "kernelspec": {
      "name": "python3",
      "display_name": "Python 3"
    },
    "language_info": {
      "name": "python"
    }
  },
  "cells": [
    {
      "cell_type": "code",
      "execution_count": null,
      "metadata": {
        "id": "n5bNvODJp_Jf"
      },
      "outputs": [],
      "source": [
        "from google.colab import drive\n",
        "drive.mount('/content/drive')"
      ]
    },
    {
      "cell_type": "code",
      "source": [
        "import pandas as pd\n",
        "import numpy as np\n",
        "import matplotlib.pyplot as plt\n",
        "import seaborn as sns"
      ],
      "metadata": {
        "id": "AelY9dEfwA7W"
      },
      "execution_count": null,
      "outputs": []
    },
    {
      "cell_type": "code",
      "source": [
        "df=pd.read_csv(\"/content/drive/MyDrive/Colab Projects/MH_DSCRP_PRED_ANLYTCS/survey.csv\")\n",
        "df.head()"
      ],
      "metadata": {
        "id": "v_SHB-SrwI3-"
      },
      "execution_count": null,
      "outputs": []
    },
    {
      "cell_type": "code",
      "source": [
        "df.shape"
      ],
      "metadata": {
        "id": "RW68TWfFqTE1"
      },
      "execution_count": null,
      "outputs": []
    },
    {
      "cell_type": "code",
      "source": [
        "df.head()"
      ],
      "metadata": {
        "id": "vDkHjmR7rFjb"
      },
      "execution_count": null,
      "outputs": []
    },
    {
      "cell_type": "code",
      "source": [
        "df.describe()"
      ],
      "metadata": {
        "id": "j8K-FfibrIYH"
      },
      "execution_count": null,
      "outputs": []
    },
    {
      "cell_type": "code",
      "source": [
        "NLV = df.isnull().sum()\n",
        "NLV"
      ],
      "metadata": {
        "id": "jsJPrWpkqT8A"
      },
      "execution_count": null,
      "outputs": []
    },
    {
      "cell_type": "code",
      "source": [
        "df.info()"
      ],
      "metadata": {
        "id": "BP3TRW9qrBi5"
      },
      "execution_count": null,
      "outputs": []
    },
    {
      "cell_type": "code",
      "source": [
        "Column_list = df.columns.to_list()\n",
        "Column_list"
      ],
      "metadata": {
        "id": "NK_N8I-vwc2d"
      },
      "execution_count": null,
      "outputs": []
    },
    {
      "cell_type": "code",
      "source": [
        "NLVP = (NLV/len(df)) * 100\n",
        "NLVP.sort_values(ascending=False)"
      ],
      "metadata": {
        "id": "qfg4Fl_1mYjC"
      },
      "execution_count": null,
      "outputs": []
    },
    {
      "cell_type": "code",
      "source": [
        "plt.figure(figsize=(12, 6))\n",
        "sns.heatmap(df.isnull(), cbar=False, cmap='viridis')\n",
        "plt.title('Missing Values Heatmap')\n",
        "plt.show()"
      ],
      "metadata": {
        "id": "EzezVPmNmlHA"
      },
      "execution_count": null,
      "outputs": []
    },
    {
      "cell_type": "code",
      "source": [
        "import pandas as pd\n",
        "\n",
        "# Assuming you already have df loaded\n",
        "df['Treatment_Flag'] = df['treatment'].apply(lambda x: 1 if x == 'Yes' else 0)\n",
        "\n",
        "\n",
        "# Select only numeric columns for correlation\n",
        "numeric_df = df.select_dtypes(include=['int64', 'float64'])\n",
        "print(\"✅ Numeric columns considered for correlation:\")\n",
        "print(numeric_df.columns.tolist())\n",
        "\n",
        "\n",
        "\n",
        "corr_matrix = numeric_df.corr()\n",
        "print(\"✅ Correlation matrix:\")\n",
        "print(corr_matrix)\n"
      ],
      "metadata": {
        "id": "OUFKF7YhSIOE"
      },
      "execution_count": null,
      "outputs": []
    },
    {
      "cell_type": "code",
      "source": [
        "import matplotlib.pyplot as plt\n",
        "import seaborn as sns\n",
        "\n",
        "plt.figure(figsize=(10,8))\n",
        "sns.heatmap(corr_matrix, annot=True, fmt=\".2f\", cmap=\"coolwarm\")\n",
        "plt.title(\"Correlation Heatmap of Numeric Variables\")\n",
        "plt.tight_layout()\n",
        "plt.show()\n"
      ],
      "metadata": {
        "id": "GgC0F4ipfSI2"
      },
      "execution_count": null,
      "outputs": []
    },
    {
      "cell_type": "code",
      "source": [
        "import pandas as pd\n",
        "import matplotlib.pyplot as plt\n",
        "import seaborn as sns\n",
        "\n",
        "# ✅ Start with your cleaned dataset\n",
        "# If not already loaded:\n",
        "# df = pd.read_csv('/content/drive/MyDrive/survey_cleaned.csv')\n",
        "\n",
        "# ✅ 1. Make a copy of df to work on\n",
        "df_encoded = df.copy()\n",
        "\n",
        "# ✅ 2. Encode all categorical columns as numeric codes\n",
        "for col in df_encoded.columns:\n",
        "    if df_encoded[col].dtype == 'object':\n",
        "        df_encoded[col] = df_encoded[col].astype('category').cat.codes\n",
        "        # cat.codes converts each unique category to a number (0,1,2,...)\n",
        "\n",
        "# ✅ 3. Compute correlation on the encoded DataFrame\n",
        "corr_matrix = df_encoded.corr()\n",
        "\n",
        "# ✅ 4. Plot the correlation heatmap\n",
        "plt.figure(figsize=(18,16))  # adjust size for readability\n",
        "sns.heatmap(corr_matrix, annot=False, cmap='coolwarm', cbar=True)\n",
        "plt.title(\"Correlation Heatmap of All Variables (Encoded)\", fontsize=16)\n",
        "plt.tight_layout()\n",
        "plt.show()\n"
      ],
      "metadata": {
        "id": "zsH2HxgEfmnH"
      },
      "execution_count": null,
      "outputs": []
    },
    {
      "cell_type": "code",
      "source": [
        "#Since corporate consists of age of people ranging from 18 to 65, we are priorizing that age\n",
        "df = df[(df['Age'] >= 18) & (df['Age'] <= 65)]"
      ],
      "metadata": {
        "id": "NGC9x_5fnK5o"
      },
      "execution_count": null,
      "outputs": []
    },
    {
      "cell_type": "code",
      "source": [
        "df.shape"
      ],
      "metadata": {
        "id": "Xa8M51A8oFUN"
      },
      "execution_count": null,
      "outputs": []
    },
    {
      "cell_type": "code",
      "source": [
        "# Normalize Gender\n",
        "df['Gender'] = df['Gender'].str.lower().str.strip()\n",
        "df['Gender'] = df['Gender'].replace({\n",
        "    'male':'Male','m':'Male','female':'Female','f':'Female',\n",
        "    'man':'Male','woman':'Female'\n",
        "})\n",
        "\n",
        "# All other values as 'Other'\n",
        "df.loc[~df['Gender'].isin(['Male','Female']), 'Gender'] = 'Other'"
      ],
      "metadata": {
        "id": "Z4J-RlKAoG9n"
      },
      "execution_count": null,
      "outputs": []
    },
    {
      "cell_type": "code",
      "source": [
        "# Fill NAs in key categorical columns with 'Not specified'\n",
        "for col in ['state','self_employed','family_history','work_interfere','no_employees',\n",
        "            'remote_work','tech_company','benefits','care_options','wellness_program',\n",
        "            'seek_help','anonymity','leave','mental_health_consequence',\n",
        "            'phys_health_consequence','coworkers','supervisor',\n",
        "            'mental_health_interview','phys_health_interview',\n",
        "            'mental_vs_physical','obs_consequence']:\n",
        "    df[col] = df[col].fillna('Not specified')"
      ],
      "metadata": {
        "id": "QBacStyOoM7Q"
      },
      "execution_count": null,
      "outputs": []
    },
    {
      "cell_type": "code",
      "source": [
        "df.isnull().sum().sort_values(ascending=False)\n"
      ],
      "metadata": {
        "id": "6VfRnnrWonhZ"
      },
      "execution_count": null,
      "outputs": []
    },
    {
      "cell_type": "code",
      "source": [
        "print(df['treatment'].value_counts())\n",
        "print(df['treatment'].value_counts(normalize=True)*100)\n"
      ],
      "metadata": {
        "id": "3lDHUhC4opd8"
      },
      "execution_count": null,
      "outputs": []
    },
    {
      "cell_type": "code",
      "source": [
        "treatment_by_gender = df.groupby('Gender')['treatment'].value_counts(normalize=True).unstack() * 100\n",
        "print(treatment_by_gender)"
      ],
      "metadata": {
        "id": "PjmhvBRko0NW"
      },
      "execution_count": null,
      "outputs": []
    },
    {
      "cell_type": "code",
      "source": [
        "treatment_by_family = df.groupby('family_history')['treatment'].value_counts(normalize=True).unstack() * 100\n",
        "print(treatment_by_family)\n"
      ],
      "metadata": {
        "id": "WUQj5gyIpKw9"
      },
      "execution_count": null,
      "outputs": []
    },
    {
      "cell_type": "code",
      "source": [
        "df.head()"
      ],
      "metadata": {
        "id": "h2qd3jlipSMf"
      },
      "execution_count": null,
      "outputs": []
    },
    {
      "cell_type": "code",
      "source": [
        "df.to_csv('/content/drive/MyDrive/survey_cleaned.csv', index=False)\n",
        "print(\"✅ Cleaned dataset saved to Google Drive!\")"
      ],
      "metadata": {
        "id": "aZK9fBL2pWz1"
      },
      "execution_count": null,
      "outputs": []
    },
    {
      "cell_type": "code",
      "source": [
        "# 1. Import sqlite3 (already comes with Python)\n",
        "import sqlite3\n",
        "import pandas as pd\n",
        "\n",
        "# 2. Create a database in memory (temporary) or on disk (permanent)\n",
        "# For now, let's do in-memory:\n",
        "conn = sqlite3.connect(':memory:')  # this creates a temporary DB\n",
        "print(\"✅ SQLite database created successfully\")\n"
      ],
      "metadata": {
        "id": "GzlwoMw1pb94"
      },
      "execution_count": null,
      "outputs": []
    },
    {
      "cell_type": "code",
      "source": [
        "# Load your cleaned CSV into a pandas DataFrame\n",
        "df = pd.read_csv('/content/drive/MyDrive/Colab Projects/MH_DSCRP_PRED_ANLYTCS/survey_cleaned.csv')\n",
        "\n",
        "df.head()"
      ],
      "metadata": {
        "id": "JlHkjr3bqfjf"
      },
      "execution_count": null,
      "outputs": []
    },
    {
      "cell_type": "code",
      "source": [
        "# ------------------------------------------\n",
        "# 2. Push the DataFrame into the SQLite database\n",
        "# ------------------------------------------\n",
        "# conn is the database connection we created earlier\n",
        "# 'survey' is the name we give to the new SQL table\n",
        "# if_exists='replace' means: if there is already a table named survey, overwrite it\n",
        "# index=False means: don't add the pandas index as an extra column\n",
        "df.to_sql('survey', conn, index=False, if_exists='replace')\n",
        "\n",
        "print(\"✅ Table 'survey' created in SQLite with\", len(df), \"rows.\")\n"
      ],
      "metadata": {
        "id": "rrATmM2lrCDt"
      },
      "execution_count": null,
      "outputs": []
    },
    {
      "cell_type": "code",
      "source": [
        "# ------------------------------------------\n",
        "# 3. Verify the table exists in SQLite\n",
        "# ------------------------------------------\n",
        "# We ask SQLite: show me all table names in this database\n",
        "tables = pd.read_sql(\"SELECT name FROM sqlite_master WHERE type='table';\", conn)\n",
        "print(\"✅ Tables currently in this database:\")\n",
        "print(tables)"
      ],
      "metadata": {
        "id": "08e1E1gUrL7o"
      },
      "execution_count": null,
      "outputs": []
    },
    {
      "cell_type": "code",
      "source": [
        "# ------------------------------------------\n",
        "# Count how many rows are in the survey table\n",
        "# ------------------------------------------\n",
        "query = \"SELECT COUNT(*) AS total_records FROM survey;\"\n",
        "\n",
        "result = pd.read_sql(query, conn)\n",
        "print(\"✅ Total rows in the table:\")\n",
        "print(result)\n"
      ],
      "metadata": {
        "id": "DYRkYfAira1O"
      },
      "execution_count": null,
      "outputs": []
    },
    {
      "cell_type": "code",
      "source": [
        "# ------------------------------------------\n",
        "# Fetch first 5 rows from the table using SQL\n",
        "# ------------------------------------------\n",
        "query = \"SELECT * FROM survey LIMIT 5;\"\n",
        "\n",
        "result = pd.read_sql(query, conn)\n",
        "print(\"✅ First 5 rows from SQL:\")\n",
        "print(result)"
      ],
      "metadata": {
        "id": "HovT52jgrrzy"
      },
      "execution_count": null,
      "outputs": []
    },
    {
      "cell_type": "code",
      "source": [
        "# ------------------------------------------\n",
        "# Count how many said Yes or No to treatment\n",
        "# ------------------------------------------\n",
        "query = \"\"\"\n",
        "SELECT treatment,\n",
        "       COUNT(*) AS count,\n",
        "       ROUND(CAST(COUNT(*) AS FLOAT) * 100 / (SELECT COUNT(*) FROM survey), 2) AS percentage\n",
        "FROM survey\n",
        "GROUP BY treatment;\n",
        "\"\"\"\n",
        "\n",
        "result = pd.read_sql(query, conn)\n",
        "print(\"✅ Treatment counts and percentages:\")\n",
        "print(result)\n"
      ],
      "metadata": {
        "id": "j-ks34rOry75"
      },
      "execution_count": null,
      "outputs": []
    },
    {
      "cell_type": "code",
      "source": [
        "# ------------------------------------------\n",
        "# Treatment rate grouped by Gender\n",
        "# ------------------------------------------\n",
        "query = \"\"\"\n",
        "SELECT Gender,\n",
        "       COUNT(*) AS total_count,\n",
        "       SUM(CASE WHEN treatment='Yes' THEN 1 ELSE 0 END) AS treated_count,\n",
        "       ROUND(SUM(CASE WHEN treatment='Yes' THEN 1 ELSE 0 END)*100.0/COUNT(*), 2) AS treatment_rate\n",
        "FROM survey\n",
        "GROUP BY Gender;\n",
        "\"\"\"\n",
        "\n",
        "result = pd.read_sql(query, conn)\n",
        "print(\"✅ Treatment rate by Gender:\")\n",
        "print(result)\n"
      ],
      "metadata": {
        "id": "4CtDVqMtsEtJ"
      },
      "execution_count": null,
      "outputs": []
    },
    {
      "cell_type": "code",
      "source": [
        "# ------------------------------------------\n",
        "# Top 10 countries by treatment rate\n",
        "# ------------------------------------------\n",
        "query = \"\"\"\n",
        "SELECT Country,\n",
        "       COUNT(*) AS total_count,\n",
        "       SUM(CASE WHEN treatment='Yes' THEN 1 ELSE 0 END) AS treated_count,\n",
        "       ROUND(SUM(CASE WHEN treatment='Yes' THEN 1 ELSE 0 END)*100.0/COUNT(*), 2) AS treatment_rate\n",
        "FROM survey\n",
        "GROUP BY Country\n",
        "ORDER BY treatment_rate DESC\n",
        "LIMIT 10;\n",
        "\"\"\"\n",
        "\n",
        "result = pd.read_sql(query, conn)\n",
        "print(\"✅ Top 10 countries by treatment rate:\")\n",
        "print(result)\n"
      ],
      "metadata": {
        "id": "djR3agjNsn-w"
      },
      "execution_count": null,
      "outputs": []
    },
    {
      "cell_type": "code",
      "source": [
        "# ------------------------------------------\n",
        "# Treatment rate grouped by family history\n",
        "# ------------------------------------------\n",
        "query = \"\"\"\n",
        "SELECT family_history,\n",
        "       COUNT(*) AS total_count,\n",
        "       SUM(CASE WHEN treatment='Yes' THEN 1 ELSE 0 END) AS treated_count,\n",
        "       ROUND(SUM(CASE WHEN treatment='Yes' THEN 1 ELSE 0 END)*100.0/COUNT(*), 2) AS treatment_rate\n",
        "FROM survey\n",
        "GROUP BY family_history;\n",
        "\"\"\"\n",
        "\n",
        "result = pd.read_sql(query, conn)\n",
        "print(\"✅ Treatment rate by Family History:\")\n",
        "print(result)\n"
      ],
      "metadata": {
        "id": "dGYW13sAsqid"
      },
      "execution_count": null,
      "outputs": []
    }
  ]
}